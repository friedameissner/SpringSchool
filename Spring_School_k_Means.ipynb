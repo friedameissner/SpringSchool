{
  "nbformat": 4,
  "nbformat_minor": 0,
  "metadata": {
    "colab": {
      "provenance": [],
      "toc_visible": true,
      "authorship_tag": "ABX9TyP66ldPy/XKGOa/lRGIB6hi",
      "include_colab_link": true
    },
    "kernelspec": {
      "name": "python3",
      "display_name": "Python 3"
    },
    "language_info": {
      "name": "python"
    }
  },
  "cells": [
    {
      "cell_type": "markdown",
      "metadata": {
        "id": "view-in-github",
        "colab_type": "text"
      },
      "source": [
        "<a href=\"https://colab.research.google.com/github/friedameissner/SpringSchool/blob/main/Spring_School_k_Means.ipynb\" target=\"_parent\"><img src=\"https://colab.research.google.com/assets/colab-badge.svg\" alt=\"Open In Colab\"/></a>"
      ]
    },
    {
      "cell_type": "markdown",
      "source": [
        "# Mini-Crashkurs Python und Google Colab\n",
        "Hier ein kleiner Überblick über die wichtigsten Dinge, die wir gleich zur Implementierung von k-Means brauchen:\n",
        "\n",
        "## Google Colab\n",
        "Mit Google Colab können wir Python-Notebooks auf Googles Servern laufen lassen, ohne lokal Python installieren zu müssen. Ihr könnt also mit (nahezu) jedem Gerät auf das Notebook zugreifen und den Code ausführen, sofern eine Internetverbindung besteht.\n",
        "Befolgt dafür bitte die folgenden Schritte:\n",
        "1. Meldet euch mit eurem **Google-Account** an.\n",
        "2. Speichert eine **Kopie** des Notebooks in **Google Drive** (Leiste oben links).\n",
        "\n",
        "Dann öffnet sich ein neuer Tab, in dem ihr das Notebook bearbeiten könnt, Änderungen werden automatisch gesichert.\n",
        "\n",
        "Um das Notebook später wieder zu öffnen, geht ihr entweder auf die Colab- oder Drive-Startseite und wählt die Datei im Ordner *Colab Notebooks* aus.\n",
        "\n",
        "Die Notebooks bestehen aus sogenannten Text- und Code-Zellen. Zum Ausführen des Python-Codes in den **Code-Zellen**, klickt ihr auf den ▶️-Button oder drückt `Strg + Enter`.\n",
        "\n",
        "\n"
      ],
      "metadata": {
        "id": "h6hd9BXsI6by"
      }
    },
    {
      "cell_type": "markdown",
      "source": [
        "## Python\n",
        "Python ist eine der beliebtesten und intuitivsten Programmiersprachen, deren Syntax einfach zu verstehen ist. Im Gegensatz zu anderen Sprachen benötigt man keine Klammern zur Definition von Gültigkeitsbereichen, sondern \"organisiert\" Zusammenhänge mit Einrückungen und Doppelpunkten.\n",
        "\n",
        "### Variablen\n",
        "Variablen dienen als **Platzhalter** für gespeicherte Zahlenwerte (Integer, Floats), Zeichenketten (Strings), Listen oder komplexere Objekte. Ihr Wert kann mit der **Zuweisung** `=` jederzeit (auch mit einem anderen Datentyp) überschrieben werden.\n",
        "\n",
        "Achtet bei der Benennung auf **aussagekräftige Variablennamen** und kombiniert zusammengesetzte Namen am besten per Unterstrich (`gerade_zahl`) oder indem ihr den Anfangsbuchstaben der folgenden Wörter großschreibt (`geradeZahl`)."
      ],
      "metadata": {
        "id": "ESwK-ZA6PBIX"
      }
    },
    {
      "cell_type": "code",
      "source": [
        "x = 3       # Variable x (Integer) erhält Wert 3\n",
        "print(x)    # Ausgabe des Werts von x auf der Konsole\n",
        "\n",
        "obst = \"Erdbeere\"                 # Variable obst (String/Zeichenkette)\n",
        "char_liste = [\"a\", \"D\", \"x\", \"o\"] # Liste aus Strings\n",
        "print(char_liste[0])              # Indizierung beginnt bei 0\n",
        "print(len(char_liste))            # Anzahl der Listenelemente"
      ],
      "metadata": {
        "id": "tart1nrFO-dD",
        "colab": {
          "base_uri": "https://localhost:8080/"
        },
        "outputId": "6ea70f37-551e-4a87-9f5a-c7db8a55d23c"
      },
      "execution_count": null,
      "outputs": [
        {
          "output_type": "stream",
          "name": "stdout",
          "text": [
            "3\n",
            "a\n",
            "4\n"
          ]
        }
      ]
    },
    {
      "cell_type": "markdown",
      "source": [
        "### Rechenoperationen\n",
        "Wie mit einem Taschenrechner können wir verschiedene **Basisoperationen** auf Zahlen, ggf. in Variablen gespeichert, anwenden.\n",
        "\n",
        "Bei der Kombination verschiedener Operationen gilt wie immer **Punkt- vor Strichsetzung**, wobei (runde) Klammern und Potenzen zuerst ausgewertet werden."
      ],
      "metadata": {
        "id": "xdbHtEkNP713"
      }
    },
    {
      "cell_type": "code",
      "source": [
        "a = 10\n",
        "b = 3\n",
        "\n",
        "print(a + b)   # Addition\n",
        "print(a - b)   # Subtraktion\n",
        "print(a * b)   # Multiplikation\n",
        "print(a / b)   # Division\n",
        "print(a // b)  # Division mit Abrunden\n",
        "print(a % b)   # Rest bei Division\n",
        "print(b ** 2)  # Potenzieren"
      ],
      "metadata": {
        "colab": {
          "base_uri": "https://localhost:8080/"
        },
        "id": "qJeUB6PqP7QY",
        "outputId": "5c8d8311-5158-4bac-dc7f-908d08a19825"
      },
      "execution_count": null,
      "outputs": [
        {
          "output_type": "stream",
          "name": "stdout",
          "text": [
            "13\n",
            "7\n",
            "30\n",
            "3.3333333333333335\n",
            "3\n",
            "1\n",
            "9\n"
          ]
        }
      ]
    },
    {
      "cell_type": "markdown",
      "source": [
        "### if-Abfragen\n",
        "Häufig möchte man bestimmte Codezeilen nur ausführen, wenn gewisse **Bedingungen** erfüllt sind. Eine if-Abfrage setzt sich wie folgt zusammen:\n",
        "\n",
        ">`if` *Bedingung* **:**\n",
        ">>*Anweisung*\n",
        "\n",
        "Zur Formulierung der Bedingung sind meistens **Vergleichsoperatoren** notwendig."
      ],
      "metadata": {
        "id": "Yhaf11VnWjaR"
      }
    },
    {
      "cell_type": "code",
      "source": [
        "a = 10\n",
        "b = 3\n",
        "\n",
        "if a < b:\n",
        "    print(\"a ist kleiner als b.\")\n",
        "if a <= b:\n",
        "    print(\"a ist kleiner oder gleich b.\")\n",
        "if a == b:\n",
        "    print(\"a ist gleich b.\") # auch auf Strings anwendbar\n",
        "if a >= b:\n",
        "    print(\"a ist größer oder gleich b.\")\n",
        "if a > b:\n",
        "    print(\"a ist größer als b.\")"
      ],
      "metadata": {
        "colab": {
          "base_uri": "https://localhost:8080/"
        },
        "id": "luMxyS3LWlAp",
        "outputId": "26d41b1b-73a0-4a83-d326-f41453160908"
      },
      "execution_count": null,
      "outputs": [
        {
          "output_type": "stream",
          "name": "stdout",
          "text": [
            "a ist größer oder gleich b.\n",
            "a ist größer als b.\n"
          ]
        }
      ]
    },
    {
      "cell_type": "markdown",
      "source": [
        "### for-Schleifen\n",
        "Um einen Codeblock **endlich oft** zu **wiederholen**, verwendet man for-Schleifen, die die Einträge eines iterierbaren Objekts, z.B. einer Liste, durchlaufen.\n",
        "\n",
        "Typischerweise nutzt man zur Iteration eine **Zahlenfolge** der Funktion ```range(start, stop, step)```. Ihre Parameter ```start, stop, step``` legen den **Startwert** (Standardwert 0), den **Stoppwert**, der am Ende nicht enthalten ist, und die **Schrittweite** (Standardwert 1) fest. Über eine negative Schrittweite kann man auch absteigende Folgen generieren."
      ],
      "metadata": {
        "id": "2sYy6BeEZf9K"
      }
    },
    {
      "cell_type": "code",
      "source": [
        "char_liste = [\"a\", \"D\", \"x\", \"o\"]\n",
        "\n",
        "for char in char_liste: # Jedes Listenelement wird durchlaufen ...\n",
        "    print(char)         # und ausgegeben.\n",
        "print(\"\\n\")\n",
        "\n",
        "for i in range(0, 5, 1): # Jedes Folgenglied wird durchlaufen ...\n",
        "    print(i ** 2)        # und quadriert ausgegeben.\n",
        "print(\"\\n\")\n",
        "\n",
        "print(list(range(5, 0, -1))) # absteigende Folge"
      ],
      "metadata": {
        "colab": {
          "base_uri": "https://localhost:8080/"
        },
        "id": "if2DBt6hZhkx",
        "outputId": "286fea84-5331-4258-d821-38ebaf327322"
      },
      "execution_count": null,
      "outputs": [
        {
          "output_type": "stream",
          "name": "stdout",
          "text": [
            "a\n",
            "D\n",
            "x\n",
            "o\n",
            "\n",
            "\n",
            "0\n",
            "1\n",
            "4\n",
            "9\n",
            "16\n",
            "\n",
            "\n",
            "[5, 4, 3, 2, 1]\n"
          ]
        }
      ]
    },
    {
      "cell_type": "markdown",
      "source": [
        "### Packages\n",
        "Da die Python-Basisfunktionen manchmal nicht ausreichen, gibt es viele verschiedene Packages, die **anwendungsspezifische Funktionen** zu Verfügung stellen und wie folgt importiert werden können:\n"
      ],
      "metadata": {
        "id": "fRSRUVwZQ5Uv"
      }
    },
    {
      "cell_type": "code",
      "source": [
        "import numpy            # Import des gesamten Packages\n",
        "import numpy as np      # Import des gesamten Packages mit kürzerer Bezeichnung\n",
        "from numpy import sqrt  # Import der sqrt-Funktion (Wurzel) von numpy\n",
        "\n",
        "print(np.max([3, 5]))\n",
        "print(sqrt(9))          # kein np. bei Aufruf von sqrt mehr notwendig!"
      ],
      "metadata": {
        "colab": {
          "base_uri": "https://localhost:8080/"
        },
        "id": "YswBY2ZShxP7",
        "outputId": "306af281-ec5c-479f-be4e-6a93533bb100"
      },
      "execution_count": null,
      "outputs": [
        {
          "output_type": "stream",
          "name": "stdout",
          "text": [
            "5\n",
            "3.0\n"
          ]
        }
      ]
    },
    {
      "cell_type": "markdown",
      "source": [
        "Diese Packages werden wir später u.a. nutzen:\n",
        "1. [numpy](https://numpy.org/doc/stable/) für das Rechnen mit speziellen Listen\n",
        "2. [matplotlib.pyplot](https://matplotlib.org/stable/users/index) für Datenvisualisierungen"
      ],
      "metadata": {
        "id": "uDfwF69pilMH"
      }
    },
    {
      "cell_type": "markdown",
      "metadata": {
        "id": "6dWoWw8jZhii"
      },
      "source": [
        "# Implementierung und Anwendung des k-Means-Clusterings\n",
        "\n",
        "\n",
        "Die folgende Code-Zelle lädt ein paar Bilder und Hilfsfunktionen; sie muss nur ein Mal ausgeführt werden."
      ]
    },
    {
      "cell_type": "code",
      "execution_count": null,
      "metadata": {
        "id": "NTYlh0AXZhil"
      },
      "outputs": [],
      "source": [
        "!wget -nc -q https://raw.githubusercontent.com/friedameissner/SpringSchool/refs/heads/main/Rapsfeld.jpg\n",
        "!wget -nc -q https://raw.githubusercontent.com/friedameissner/SpringSchool/refs/heads/main/Mohnfeld.jpg\n",
        "!wget -nc -q https://raw.githubusercontent.com/friedameissner/SpringSchool/refs/heads/main/MRT_Kopf.jpeg\n",
        "!wget -nc -q https://raw.githubusercontent.com/friedameissner/SpringSchool/refs/heads/main/MRT_Tumor.jpeg\n",
        "!wget -nc -q https://raw.githubusercontent.com/friedameissner/SpringSchool/refs/heads/main/Thermo.jpg\n",
        "!wget -nc -q https://raw.githubusercontent.com/friedameissner/SpringSchool/refs/heads/main/utils.py"
      ]
    },
    {
      "cell_type": "markdown",
      "source": [
        "## Visualisierung der Daten\n",
        "Im Setup werden drei Punktewolken generiert und hier anschließend dargestellt."
      ],
      "metadata": {
        "id": "MAuhTP0reICr"
      }
    },
    {
      "cell_type": "code",
      "execution_count": null,
      "metadata": {
        "id": "6sm1seSGZhio"
      },
      "outputs": [],
      "source": [
        "import numpy as np\n",
        "import matplotlib.pyplot as plt\n",
        "%matplotlib inline\n",
        "import utils\n",
        "import ipywidgets\n",
        "from IPython.display import display\n",
        "from skimage import io\n",
        "from tqdm.auto import trange\n",
        "\n",
        "data, _ = utils.setup()\n",
        "\n",
        "plt.figure()\n",
        "plt.scatter(data[:, 0], data[:, 1])\n",
        "plt.show()"
      ]
    },
    {
      "cell_type": "markdown",
      "metadata": {
        "id": "LgtYFJYcZhiz"
      },
      "source": [
        "## Batch-Learning\n",
        "Im folgenden Codeblock wird das k-Means-Update für Batch-Learning implementiert. Das meint genau den Updateschritt, wie wir ihn vorhin kennengelernt haben: Jeder Codebook-Vektor wird auf den Schwerpunkt seines Clusters verschoben, d.h. wir benötigen alle zugehörigen Punkte (\"Batch\").\n",
        "\n",
        "### Ablauf\n",
        "1. Zuordnung der Punkte $\\boldsymbol{x}^{\\mu}, \\mu=1, \\dots, n$, auf die Cluster der Codebook-Vektoren $\\boldsymbol{cb}_{i}, i=1, \\dots, k$\n",
        "2. Update des Codebook-Vektors $\\boldsymbol{cb}_{i}$ durch Verschiebung in den Schwerpunkt seines Clusters, d.h. $\\boldsymbol{cb}_{i} = \\frac{1}{m} \\sum_{\\mu=1}^{m} \\boldsymbol{x}^{\\mu}, m \\leq n$, für die $m$ Datenpunkte $\\boldsymbol{x}^{\\mu}$ aus dem $i$-ten Cluster\n",
        "\n",
        "### Aufgabe 1\n",
        "Vervollständigt die folgende Batch-Learning-Implementierung vom k-Means-Update, indem ihr die Lücken ```__``` passend füllt. Die Kommentare geben an, was in der jeweiligen Zeile passieren soll."
      ]
    },
    {
      "cell_type": "code",
      "execution_count": null,
      "metadata": {
        "id": "VrM_tKOJGM0C"
      },
      "outputs": [],
      "source": [
        "def kmeans_update_b(codebook, data):\n",
        "    cb = codebook.copy()\n",
        "\n",
        "    # Finde nächsten Codebook-Vektor\n",
        "    cluster_id = np.zeros(len(data)) # Indices der zugehörigen Cluster\n",
        "\n",
        "    for i in range(len(data)):\n",
        "        dist = __ # bisher minimale Distanz, initialisiert mit ∞\n",
        "\n",
        "        for j in range(len(cb)):\n",
        "            abstand = __ # Berechne Abstand zwischen aktuellem Datenpunkt (i) und aktuellem Codebook (j)\n",
        "            if __: # Wenn der aktuelle Abstand kürzer als der bisher kürzeste ist ...\n",
        "                dist = __ # Aktualisiere bisher kürzesten Abstand\n",
        "                cluster_id[i] = __ # Bestimme Index des zugehörigen Clusters\n",
        "\n",
        "    # Update der Codebook-Vektoren\n",
        "    for i in range(len(cb)):\n",
        "        cluster = np.arange(len(data))[cluster_id==i] # Indices aller Datenpunkte im Cluster\n",
        "        if len(cluster) > 0: # Wenn das Cluster nicht leer ist ...\n",
        "            cb[i] = __ # Update des Codebook-Vektors\n",
        "\n",
        "    return cb"
      ]
    },
    {
      "cell_type": "markdown",
      "metadata": {
        "id": "1LBRA2wXZhi1"
      },
      "source": [
        "### Aufgabe 2\n",
        "Hier könnt ihr den Algorithmus für unterschiedliche $k$ testen. Wählt dafür ein $k$ in Zeile 2 und ergänzt den Aufruf des Batch-Updates in Zeile 12."
      ]
    },
    {
      "cell_type": "code",
      "source": [
        "# --- Hier kann das k angepasst werden ---\n",
        "k = __\n",
        "# ----------------------------------------\n",
        "# Initialisierung der Codebook-Vektoren\n",
        "codebook = np.random.rand(k, 2) * (np.max(data, axis=0) - np.min(data, axis=0)) + np.min(data, axis=0)\n",
        "# Zuordnung der Datenpunkte zu den Clustern\n",
        "label, error = utils.zugehoerigkeit(codebook, data)\n",
        "utils.draw(codebook, data, title=\"Initialisierung\")\n",
        "print(f\"Fehler bei Initialisierung: {error}\")\n",
        "\n",
        "for i in range(3): # ggf. Anzahl der Iterationen von 3 erhöhen\n",
        "    codebook = __ # Aufruf des k-Means-Updates\n",
        "    label, error = utils.zugehoerigkeit(codebook, data)\n",
        "    utils.draw(codebook, data, title=f\"Epoche {i+1}\")\n",
        "    print(f\"Fehler in Epoche {i+1}: {error}\")\n"
      ],
      "metadata": {
        "id": "aSvhoT4pwxgh"
      },
      "execution_count": null,
      "outputs": []
    },
    {
      "cell_type": "markdown",
      "metadata": {
        "id": "dZz4G7ZmZhis"
      },
      "source": [
        "## Bonus: Pattern-by-Pattern-Learning\n",
        "Neben dem Batch-Learning gibt es noch das Pattern-by-Pattern-Learning. Hier wird jeder Datenpunkt einzeln betrachtet und der jeweils zugehörige Codebook-Vektor direkt etwas verschoben, ohne die übrigen Punkte zu berücksichtigen.\n",
        "\n",
        "### Ablauf\n",
        "1. Suche des am nächsten liegenden Codebook-Vektors $\\boldsymbol{cb}_{i^*}$ für einen beliebigen Punkt $\\boldsymbol{x}^{\\mu}$ aus der Menge der Datenpunkte\n",
        "2. Update des Codebook-Vektors gemäß $\\boldsymbol{cb}_{i^*} = \\boldsymbol{cb}_{i^*} + \\epsilon_{t} \\left( \\boldsymbol{x}^{\\mu} − \\boldsymbol{cb}_{i^*} \\right)$\n",
        "\n",
        "Eine Lernrate $\\epsilon_{t} = 0.1$ bedeutet hier, dass der Codebook-Vektor um 10 % der Strecke in Richtung des gegebenen Punkts verschoben wird.\n",
        "\n",
        "### Bonusaufgabe 1\n",
        "Vervollständigt die folgende PBP-Learning-Implementierung vom k-Means-Update, indem ihr die Lücken ```__``` passend füllt. Die Kommentare geben an, was in der jeweiligen Zeile passieren soll."
      ]
    },
    {
      "cell_type": "code",
      "source": [
        "def kmeans_update_pbp(codebook, point, lernrate=0.1):\n",
        "    cb = codebook.copy()\n",
        "    # Finde nächsten Codebook-Vektor\n",
        "    dist = __ # bisher minimale Distanz, initialisiert mit ∞\n",
        "\n",
        "    # Iteriere über alle Codebook-Vektoren\n",
        "    for i in range(len(cb)):\n",
        "        cb_i = cb[i] # aktuell betrachteter Codebook-Vektor\n",
        "        abstand = __ # Berechne Abstand\n",
        "        if __: # Wenn der aktuelle Abstand kürzer als der bisher kürzeste ist ...\n",
        "            dist = __ # Aktualisiere bisher kürzesten Abstand\n",
        "            i_star = __ # Bestimme den Index des nächsten Codebook-Vektors\n",
        "\n",
        "    # Update des nächsten Codebook-Vektors\n",
        "    cb[i_star] = __\n",
        "\n",
        "    return cb"
      ],
      "metadata": {
        "id": "Cky85Y5K_XSz"
      },
      "execution_count": null,
      "outputs": []
    },
    {
      "cell_type": "markdown",
      "metadata": {
        "id": "QMW73BMSZhiv"
      },
      "source": [
        "### Bonusaufgabe 2\n",
        "Hier könnt ihr den Algorithmus für unterschiedliche $k$ testen. Wählt dafür ein $k$ in Zeile 2 und ergänzt den Aufruf des PBP-Updates in Zeile 13."
      ]
    },
    {
      "cell_type": "code",
      "execution_count": null,
      "metadata": {
        "id": "1feg1swsZhiw"
      },
      "outputs": [],
      "source": [
        "# --- Hier kann das k angepasst werden ---\n",
        "k = __\n",
        "# ----------------------------------------\n",
        "# Initialisierung der Codebook-Vektoren\n",
        "codebook = np.random.rand(k, 2)*(np.max(data, axis=0)-np.min(data, axis=0))+np.min(data, axis=0)\n",
        "# Zuordnung der Datenpunkte zu den Clustern\n",
        "label, error = utils.zugehoerigkeit(codebook, data)\n",
        "utils.draw(codebook, data, title=\"Initialisierung\")\n",
        "print(f\"Fehler bei Initialisierung: {error}\")\n",
        "\n",
        "for i in range(3): # ggf. Anzahl der Iterationen von 3 erhöhen\n",
        "    for p in np.random.permutation(data): # Iteration über jeden Datenpunkt p\n",
        "        codebook = __ # Aufruf des k-Means-Updates\n",
        "    label, error = utils.zugehoerigkeit(codebook, data)\n",
        "    utils.draw(codebook, data, title=f\"Epoche {i+1}\")\n",
        "    print(f\"Fehler in Epoche {i+1}: {error}\")\n"
      ]
    },
    {
      "cell_type": "markdown",
      "metadata": {
        "id": "nKZ2O0Ngg4W0"
      },
      "source": [
        "# Farbreduktion in Bildern\n",
        "Eben haben wir gesehen, wie k-Means ähnliche zweidimensionale Datenpunkte gruppiert (\"clustert\").\n",
        "Jetzt wollen wir dieses Prinzip auch auf Farbbilder anwenden, genauer gesagt auf RGB-Bilder, d.h. Bilder mit Farbkanälen für Rot, Grün und Blau.\n",
        "\n",
        "## Vorverarbeitung\n",
        "Zuerst müssen wir aber ein paar Hilfsfunktionen implementieren, auf denen die Farbreduktion dann aufbaut."
      ]
    },
    {
      "cell_type": "markdown",
      "source": [
        "### Aufgabe 3\n",
        "Vervollständigt die Funktionen ```normalize``` und ```imshow``` an den mit `# TO DO` gekennzeichneten Stellen. Die Aufgabe, Ein- und Ausgabewerte der Funktionen findet ihr jeweils als mehrzeiligen Kommentar im Funktionsrumpf.\n",
        "\n",
        "*Hinweis:* Wie transformiert man den Wertebereich $[a, b]$ auf das Intervall $[0, 1]$? Orientiert euch für die zweite Funktion an [imshow von matplotlib.pyplot](https://matplotlib.org/stable/api/_as_gen/matplotlib.pyplot.imshow.html)."
      ],
      "metadata": {
        "id": "L_vwZdtJBRpk"
      }
    },
    {
      "cell_type": "code",
      "source": [
        "def normalize(img):\n",
        "    \"\"\"\n",
        "    Normalisiert Bild, sodass der Wertebereich das Intervall [0, 1] ist.\n",
        "\n",
        "    Eingabe:\n",
        "        img: zu normalisierendes Bild (Numpy-Array).\n",
        "\n",
        "    Ausgabe:\n",
        "        normalisiertes Bild (Numpy-Array).\n",
        "    \"\"\"\n",
        "    i = img.copy()\n",
        "\n",
        "    #\n",
        "    # TODO\n",
        "    #\n",
        "\n",
        "    return i"
      ],
      "metadata": {
        "id": "XNW115cDiu6l"
      },
      "execution_count": null,
      "outputs": []
    },
    {
      "cell_type": "code",
      "source": [
        "def load_img(path, maxlen=1000):\n",
        "    \"\"\"\n",
        "    Lädt lokales Bild.\n",
        "\n",
        "    Eingabe:\n",
        "        path: Speicherort des Bildes.\n",
        "        maxlen: Maximale Länge der längeren Seite.\n",
        "\n",
        "    Ausgabe:\n",
        "        normalisiertes Bild als Numpy-Array.\n",
        "    \"\"\"\n",
        "    img = plt.imread(path)\n",
        "    while np.max(img.shape) > maxlen:\n",
        "        img = img[::2, ::2]\n",
        "    return normalize(img)\n",
        "\n",
        "def imshow(img):\n",
        "    \"\"\"\n",
        "    Plottet Bild ohne Achsenbeschriftung.\n",
        "\n",
        "    Eingabe:\n",
        "        img: Bild als Numpy-Array.\n",
        "\n",
        "    Ausgabe:\n",
        "        None\n",
        "    \"\"\"\n",
        "\n",
        "    #\n",
        "    # TODO\n",
        "    #\n"
      ],
      "metadata": {
        "id": "knr4X3yejLaj"
      },
      "execution_count": null,
      "outputs": []
    },
    {
      "cell_type": "markdown",
      "source": [
        "### Bonusaufgabe 3\n",
        "Vervollständigt die Funktion `hex2rgb` an der mit `# TO DO` gekennzeichneten Stelle, die die Farben von der Hexadezimal- in die RGB-Darstellung überführt.\n",
        "- Hexadezimaldarstellung: Zeichenkette der Form #$rrggbb$ mit $r$, $g$, $b$ jeweils aus der Menge $\\{0, 1, \\dots, 9, a, b, \\dots, f\\}$\n",
        "- RGB-Wert: Numpy-Array der Form $[r, g, b]$ mit $r$, $g$, $b$ jeweils aus dem Intervall $[0, 1]$\n",
        "\n",
        "Für `hex2rgb` müssen also die zweistelligen Hexadezimalzahlen $rr$ bzw. $gg$ bzw. $bb$ in die Dezimaldarstellung $(0, \\dots, 255)$ überführt und durch $256$ geteilt werden.\n",
        "\n",
        "*Hinweis:* Mit der Funktion `int(value, base)` könnt ihr den `value` aus dem Zahlensystem des Parameters `base` in die Dezimaldarstellung überführen. Die Hexadezimaldarstellung hat die Basis 16, die Dezimaldarstellung die Basis 10."
      ],
      "metadata": {
        "id": "hKwlTvYK1oQv"
      }
    },
    {
      "cell_type": "code",
      "source": [
        "def hex2rgb(c):\n",
        "    \"\"\"\n",
        "    Übersetzt Farbe von Hexadezimaldarstellung in RGB-Werte.\n",
        "\n",
        "    Eingabe:\n",
        "        c: Farbe in Hexadezimaldarstellung.\n",
        "\n",
        "    Ausgabe:\n",
        "        RGB-Vektor.\n",
        "    \"\"\"\n",
        "\n",
        "    #\n",
        "    # TODO\n",
        "    #\n"
      ],
      "metadata": {
        "id": "QxJyJGSa17rL"
      },
      "execution_count": null,
      "outputs": []
    },
    {
      "cell_type": "markdown",
      "metadata": {
        "id": "8waVVvseYzzq"
      },
      "source": [
        "## Bild auswählen\n",
        "Im folgenden Codeblock könnt ihr über das Dropdown-Menü am rechten Rand ein Bild auswählen. Die Bilder werden hinterher so verkleinert, dass die längste Seite maximal 1000 Pixel lang ist. Damit laufen die Algorithmen schneller, ohne dass die Bildqualität zu stark beeinträchtigt wird.\n",
        "\n",
        "### Bonusaufgabe 4\n",
        "Sucht euch ein eigenes Bild und ladet es als .png oder .jpg in die lokal gespeicherten Dateien (📁-Symbol am linken Rand). Entfernt dann den Hashtag in Zeile 2 und ersetzt `euer_dateiname.png` durch die tatsächliche Bezeichnung."
      ]
    },
    {
      "cell_type": "code",
      "execution_count": null,
      "metadata": {
        "id": "YatwtznfkUj8"
      },
      "outputs": [],
      "source": [
        "Bild = \"Thermo.jpg\" # @param [\"Mohnfeld.jpg\",\"Rapsfeld.jpg\",\"MRT_Kopf.jpeg\",\"MRT_Tumor.jpeg\",\"Thermo.jpg\"]\n",
        "# Bild = \"euer_dateiname.png\" # Bonus\n",
        "\n",
        "img = load_img(Bild) # Bild laden\n",
        "imshow(img)          # Bild anzeigen\n",
        "\n",
        "colorlist = np.reshape(img, (-1, 3))\n",
        "print(f\"Bild geladen, {len(np.unique(colorlist, axis=0))} unterschiedliche Farben.\")"
      ]
    },
    {
      "cell_type": "markdown",
      "metadata": {
        "id": "STVoRBEhYzzt"
      },
      "source": [
        "## Farben wählen\n",
        "In diesem Abschnitt könnt ihr die Codebook-Vektoren \"per Hand\" auswählen. Führt dafür den folgenden Codeblock aus, dann wird zunächst das Bild angezeigt und ihr könnt die Farben über einen Colorpicker aussuchen.\n",
        "\n",
        "*Hinweis:* Diese Code-Zelle muss nur ein Mal ausgeführt zu werden. Sämtliche Farben, die ausgewählt wurden, sind anschließend im Arbeitsspeicher hinterlegt, bis die lokale Laufzeit beendet wird."
      ]
    },
    {
      "cell_type": "code",
      "execution_count": null,
      "metadata": {
        "id": "DnDSszMe2hEo"
      },
      "outputs": [],
      "source": [
        "colors = np.random.rand(8, 3) # 8 zufällig ausgewählte RGB-Farben\n",
        "# Colorpicker\n",
        "clist = [ipywidgets.ColorPicker(value=utils.rgb2hex(c-0.001), layout=ipywidgets.Layout(width='100px')) for c in colors]\n",
        "\n",
        "imshow(img)\n",
        "box = ipywidgets.VBox([ipywidgets.HBox(clist[::2]), ipywidgets.HBox(clist[1::2])])\n",
        "display(box)"
      ]
    },
    {
      "cell_type": "markdown",
      "metadata": {
        "id": "sBj9gveoYzzw"
      },
      "source": [
        "## Rekonstruktion \"per Hand\"\n",
        "Die soeben ausgewählten Farben können nun zur Quantisierung im Farbraum des Bildes genutzt werden. Die folgende Code-Zelle führt die Quantisierung automatisch durch und plottet anschließend sowohl das Bild als auch die zugehörige Punktewolke.\n",
        "\n",
        "### Aufgabe 4\n",
        "Sucht im Abschnitt \"Farben wählen\" eine geeignete Kombination, sodass das Bild möglichst gut rekonstruiert wird! Es ist möglich, \"mit bloßem Auge\" Farben zu finden, sodass der Fehler kleiner als 0.2 ist.\n",
        "\n",
        "*Achtung:* Die obere Code-Zelle muss nicht erneut ausgeführt werden! Werden die Farben geändert, liegen sie bereits im Arbeitsspeicher vor. Anschließend muss die untere Code-Zelle ausgeführt werden."
      ]
    },
    {
      "cell_type": "code",
      "execution_count": null,
      "metadata": {
        "id": "CR_SjQs3s2Qe"
      },
      "outputs": [],
      "source": [
        "codebook = np.array([utils.hex2rgb(c.value) for c in clist]) # Farben als Codebook-Vektoren\n",
        "dists = utils.pointwise_sq(colorlist, codebook)              # Abstände\n",
        "naechster = np.argmin(dists, axis=-1)                        # Cluster-IDs\n",
        "img_neu_list = codebook[naechster]\n",
        "img_neu = np.reshape(img_neu_list, img.shape)\n",
        "# entspricht build_vq_img(colorlist, codebook, img.shape), ohne Rückgabe von img_neu_list\n",
        "\n",
        "print(\"Originalbild (links) mit Farbraum als Punktewolke (rechts)\")\n",
        "utils.plot_img_w_points(img)\n",
        "\n",
        "print(\"Quantisiertes Bild (links) mit zugehöriger Punktewolke (rechts)\")\n",
        "print(\"Der Fehler beträgt\", np.mean(np.sqrt(np.sum((img_neu_list-colorlist)**2, axis=-1))))\n",
        "utils.plot_img_w_points(img_neu, [np.unique(colorlist, axis=0)[::20], codebook[np.argmin(utils.pointwise_sq(np.unique(colorlist, axis=0), codebook), axis=-1)[::20]]])"
      ]
    },
    {
      "cell_type": "markdown",
      "source": [
        "## Rekonstruktion mit k-Means\n"
      ],
      "metadata": {
        "id": "-r0H-tXskr0G"
      }
    },
    {
      "cell_type": "markdown",
      "metadata": {
        "id": "6Ws5VQcvYzz0"
      },
      "source": [
        "Jetzt möchten wir uns ansehen, was der k-Means-Algorithmus erreichen kann. Hierfür werden zunächst die Codebook-Vektoren zufällig initialisiert und danach iterativ angepasst. Damit der Algorithmus nicht unendlich lange weiterläuft, wird er abgebrochen, sobald sich die Codebook-Vektoren nur noch wenig verändern.\n",
        "\n",
        "### Aufgabe 5\n",
        "Testet den Algorithmus mit verschiedenen Werten für $k$! Ab wann ist kaum noch ein Unterschied zwischen dem echten und dem rekonstruierten Bild zu erkennen?"
      ]
    },
    {
      "cell_type": "code",
      "execution_count": null,
      "metadata": {
        "id": "ZKXuK4nGbtA0"
      },
      "outputs": [],
      "source": [
        "k = __\n",
        "\n",
        "max_epochs = 10                 # maximale Anzahl an Iterationen\n",
        "np.random.seed(2025)            # für reproduzierbare Zufallszahlen\n",
        "codebook = np.random.rand(k, 3) # zufällige Initialisierung der Codebook-Vektoren\n",
        "\n",
        "img_neu = utils.build_vq_img(colorlist, codebook, shape=img.shape)\n",
        "_, error = utils.zugehoerigkeit(codebook, colorlist) # Zuordnung zu Clustern\n",
        "print(f\"Bild mit {k} unterschiedlichen Farben hat bei Initialisierung einen Fehler von {error}\")\n",
        "utils.plot_img_w_points(img_neu,\n",
        "                  [np.unique(colorlist, axis=0)[::20],\n",
        "                   codebook[np.argmin(utils.pointwise_sq(np.unique(colorlist, axis=0), codebook), axis=-1)[::20]]])\n",
        "\n",
        "errorlist = []\n",
        "for epoch in trange(max_epochs):\n",
        "    cb_alt = codebook.copy()\n",
        "    codebook, error = utils.kmeans_update(codebook, colorlist) # Batch-Update\n",
        "    errorlist.append(error)\n",
        "    if np.max(np.sum((cb_alt - codebook) ** 2, axis=-1)) < 1e-3: # Abbruchkriterium\n",
        "        break\n",
        "\n",
        "# Fehler plotten\n",
        "plt.figure()\n",
        "plt.plot(errorlist)\n",
        "plt.xlabel(\"Iteration\"); plt.ylabel(\"Fehler\")\n",
        "plt.xticks(np.arange(len(errorlist)))\n",
        "plt.title(\"Fehler\")\n",
        "plt.show()\n",
        "\n",
        "img_neu = utils.build_vq_img(colorlist, codebook, shape=img.shape)\n",
        "print(f\"Bild mit {k} unterschiedlichen Farben hat am Ende einen Fehler von {errorlist[-1]}\")\n",
        "utils.plot_img_w_points(img_neu, [np.unique(colorlist, axis=0)[::20], codebook[np.argmin(utils.pointwise_sq(np.unique(colorlist, axis=0), codebook), axis=-1)[::20]]])"
      ]
    }
  ]
}